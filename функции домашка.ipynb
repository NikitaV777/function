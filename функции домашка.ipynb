{
 "cells": [
  {
   "cell_type": "markdown",
   "metadata": {},
   "source": [
    "## Создайте простую функцию под названием Favorites_movie, которая принимает строку, содержащую название вашего любимого фильма. Затем функция должна напечатать «Мой любимый фильм называется {имя}»."
   ]
  },
  {
   "cell_type": "code",
   "execution_count": 12,
   "metadata": {},
   "outputs": [
    {
     "name": "stdout",
     "output_type": "stream",
     "text": [
      "Мой любимый фильм называется Rome \n"
     ]
    }
   ],
   "source": [
    "def func(x, a):\n",
    "    a = \" Rome \"\n",
    "    res = x + a\n",
    "    return res\n",
    "\n",
    "print(func('Мой любимый фильм называется' , 'a'))"
   ]
  },
  {
   "cell_type": "markdown",
   "metadata": {},
   "source": [
    "## 2.Создайте функцию с именем make_country, которая принимает в качестве параметров название страны и капитал. Затем создайте словарь из этих параметров, используя «name» и «capital» в качестве ключей. Сделайте так, чтобы функция выводила значения словаря, чтобы убедиться, что он работает как задумано.\n",
    "\n"
   ]
  },
  {
   "cell_type": "code",
   "execution_count": 1,
   "metadata": {},
   "outputs": [
    {
     "name": "stdout",
     "output_type": "stream",
     "text": [
      "7\n",
      "{'short': 'dict', 'longer': 'dicshenory'}\n"
     ]
    }
   ],
   "source": [
    "def make_country(name,capital):\n",
    "    a = dict(name='USA', capital='dollar')\n",
    "    print(a)\n",
    "    \n",
    "## Не знаю чего не выводит,снизу все работает\n",
    "d = {'holop': 7, 'rabit': 5}\n",
    "print(d['holop'])\n",
    "\n",
    "a = dict(short='dict', longer='dicshenory')\n",
    "print(a)\n",
    "    "
   ]
  },
  {
   "cell_type": "markdown",
   "metadata": {},
   "source": []
  },
  {
   "cell_type": "code",
   "execution_count": 2,
   "metadata": {},
   "outputs": [
    {
     "name": "stdout",
     "output_type": "stream",
     "text": [
      "Настройки\n",
      "Введите '+' для сложения\n",
      "Введите '-' для вычетания\n",
      "Введите '*' для умножения\n",
      "Введите '/' для деления\n",
      "Введите 'Выход' для выхода из калькулятора\n",
      ":+\n",
      "Введите первое число: 2\n",
      "Введите второе число: 3\n"
     ]
    },
    {
     "ename": "NameError",
     "evalue": "name 'num1' is not defined",
     "output_type": "error",
     "traceback": [
      "\u001b[0;31m---------------------------------------------------------------------------\u001b[0m",
      "\u001b[0;31mNameError\u001b[0m                                 Traceback (most recent call last)",
      "\u001b[0;32m<ipython-input-2-6fd0f0cf18c5>\u001b[0m in \u001b[0;36m<module>\u001b[0;34m\u001b[0m\n\u001b[1;32m     19\u001b[0m     \u001b[0;32melif\u001b[0m \u001b[0muser_input\u001b[0m \u001b[0;34m==\u001b[0m \u001b[0;34m\"+\"\u001b[0m\u001b[0;34m:\u001b[0m\u001b[0;34m\u001b[0m\u001b[0;34m\u001b[0m\u001b[0m\n\u001b[1;32m     20\u001b[0m         \u001b[0mbring_numbers\u001b[0m\u001b[0;34m(\u001b[0m\u001b[0;34m)\u001b[0m\u001b[0;34m\u001b[0m\u001b[0;34m\u001b[0m\u001b[0m\n\u001b[0;32m---> 21\u001b[0;31m         \u001b[0mresult\u001b[0m \u001b[0;34m=\u001b[0m \u001b[0mstr\u001b[0m\u001b[0;34m(\u001b[0m\u001b[0mnum1\u001b[0m\u001b[0;34m+\u001b[0m\u001b[0mnum2\u001b[0m\u001b[0;34m)\u001b[0m\u001b[0;34m\u001b[0m\u001b[0;34m\u001b[0m\u001b[0m\n\u001b[0m\u001b[1;32m     22\u001b[0m         \u001b[0mprint\u001b[0m \u001b[0;34m(\u001b[0m\u001b[0;34m\"Ответ: \"\u001b[0m \u001b[0;34m+\u001b[0m \u001b[0mresult\u001b[0m\u001b[0;34m)\u001b[0m\u001b[0;34m\u001b[0m\u001b[0;34m\u001b[0m\u001b[0m\n\u001b[1;32m     23\u001b[0m     \u001b[0;32melif\u001b[0m \u001b[0muser_input\u001b[0m \u001b[0;34m==\u001b[0m \u001b[0;34m\"-\"\u001b[0m\u001b[0;34m:\u001b[0m\u001b[0;34m\u001b[0m\u001b[0;34m\u001b[0m\u001b[0m\n",
      "\u001b[0;31mNameError\u001b[0m: name 'num1' is not defined"
     ]
    }
   ],
   "source": [
    "while True:\n",
    "    print(\"Настройки\")\n",
    "    print(\"Введите '+' для сложения\")\n",
    "    print(\"Введите '-' для вычетания\")\n",
    "    print(\"Введите '*' для умножения\")\n",
    "    print(\"Введите '/' для деления\")\n",
    "    print(\"Введите 'Выход' для выхода из калькулятора\")\n",
    "    user_input = input(\":\")\n",
    " \n",
    "    def bring_numbers():\n",
    "        num1 = float(input(\"Введите первое число: \"))   \n",
    "        num2 = float(input(\"Введите второе число: \"))\n",
    "        return num1,num2\n",
    "    \n",
    "    \n",
    " \n",
    "    if user_input == \"Выход\":\n",
    "        break\n",
    "    elif user_input == \"+\":\n",
    "        bring_numbers()\n",
    "        result = str(num1+num2)\n",
    "        print (\"Ответ: \" + result)\n",
    "    elif user_input == \"-\":\n",
    "        num1 = float(input(\"Введите первое число: \"))\n",
    "        num2 = float(input(\"Введите второе число: \"))\n",
    "        result = str(num1-num2)\n",
    "        print(\"Ответ: \" + result) \n",
    "    elif user_input == \"*\":\n",
    "        num1 = float(input(\"Введите первое число: \"))\n",
    "        num2 = float(input(\"Введите второе число: \"))\n",
    "        result = str(num1*num2)\n",
    "        print(\"Ответ: \" + result) \n",
    "    elif user_input == \"/\":            \n",
    "        num1 = float(input(\"Введите первое число: \"))\n",
    "        num2 = float(input(\"Введите второе число: \"))\n",
    "        result = str(num1/num2)\n",
    "        print(\"Ответ: \" + result) \n",
    "    else:\n",
    "        print(\"неизвестный ввод\")"
   ]
  },
  {
   "cell_type": "code",
   "execution_count": null,
   "metadata": {},
   "outputs": [],
   "source": []
  }
 ],
 "metadata": {
  "kernelspec": {
   "display_name": "Python 3",
   "language": "python",
   "name": "python3"
  },
  "language_info": {
   "codemirror_mode": {
    "name": "ipython",
    "version": 3
   },
   "file_extension": ".py",
   "mimetype": "text/x-python",
   "name": "python",
   "nbconvert_exporter": "python",
   "pygments_lexer": "ipython3",
   "version": "3.7.3"
  }
 },
 "nbformat": 4,
 "nbformat_minor": 2
}
